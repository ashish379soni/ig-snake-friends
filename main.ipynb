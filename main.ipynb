{
  "cells": [
    {
      "cell_type": "code",
      "execution_count": 1,
      "metadata": {
        "id": "WMArXIDjtyG3"
      },
      "outputs": [],
      "source": [
        "import time\n",
        "from selenium import webdriver\n",
        "from selenium.webdriver.support import expected_conditions as EC\n",
        "from selenium.webdriver.support.wait import WebDriverWait\n",
        "from selenium.webdriver.common.by import By\n",
        "import pandas as pd\n",
        "import util.secret as secret # Import sensitive credentials from a separate file"
      ]
    },
    {
      "cell_type": "code",
      "execution_count": 2,
      "metadata": {},
      "outputs": [],
      "source": [
        "# Utility functions\n",
        "\n",
        "# Function to scroll to the bottom of the list of 'following' field\n",
        "def scroll_to_bottom(driver:webdriver.Chrome):\n",
        "    with open('scroll.js','r') as scroll_script:\n",
        "        scroll_script = scroll_script.read()\n",
        "    with open('scroll_height.js','r') as scroll_height:\n",
        "        scroll_height = scroll_height.read()\n",
        "        \n",
        "    last_height = driver.execute_script(scroll_height)\n",
        "    while True:\n",
        "        driver.execute_script(scroll_script)\n",
        "        time.sleep(3)\n",
        "        new_height = driver.execute_script(scroll_height)\n",
        "        if new_height == last_height:\n",
        "            break\n",
        "        last_height = new_height\n",
        "\n",
        "# Function to get the full XPath of an element containing certain text\n",
        "def get_xpath_containing(target_text:str, driver:webdriver.Chrome):\n",
        "    element = WebDriverWait(driver, 20).until(EC.element_to_be_clickable((By.XPATH, f\"//*[contains(text(), '{target_text}')]\")))\n",
        "    components = []\n",
        "    child = element if element else driver.find_element(By.XPATH, f\"//*[contains(text(), '{target_text}')]\")\n",
        "    while child is not None:\n",
        "        parent = child.find_element(By.XPATH, \"..\")\n",
        "        siblings = parent.find_elements(By.XPATH, child.tag_name)\n",
        "        xpath_tag = child.tag_name\n",
        "        if len(siblings) > 1:\n",
        "            index = [i for i, sibling in enumerate(siblings) if sibling == child][0] + 1\n",
        "            xpath_tag += f'[{index}]'\n",
        "        components.append(xpath_tag)\n",
        "        child = parent if parent.tag_name != \"html\" else None\n",
        "    components.reverse()\n",
        "    return '/html/' + '/'.join(components)\n"
      ]
    },
    {
      "cell_type": "code",
      "execution_count": 3,
      "metadata": {},
      "outputs": [],
      "source": [
        "url = \"https://www.instagram.com/\"\n",
        "# \n",
        "driver = webdriver.Chrome()\n",
        "driver.get(url)\n",
        "\n",
        "# Get username and password from another file\n",
        "username = secret.username\n",
        "password = secret.password\n",
        "if username.strip() == '' or password.strip() == '':\n",
        "    print(\"Invalid credentials passed.\")\n",
        "    exit()"
      ]
    },
    {
      "cell_type": "code",
      "execution_count": 4,
      "metadata": {},
      "outputs": [],
      "source": [
        "# Login\n",
        "username_field = WebDriverWait(driver, 20).until(EC.element_to_be_clickable((By.NAME, 'username')))\n",
        "username_field.send_keys(username)\n",
        "\n",
        "password_field = WebDriverWait(driver, 20).until(EC.element_to_be_clickable((By.NAME, 'password')))\n",
        "password_field.send_keys(password)\n",
        "\n",
        "login_button = WebDriverWait(driver, 20).until(EC.element_to_be_clickable((By.CSS_SELECTOR, '#loginForm > div > div:nth-child(3) > button')))\n",
        "login_button.click()"
      ]
    },
    {
      "cell_type": "code",
      "execution_count": 5,
      "metadata": {},
      "outputs": [],
      "source": [
        "# Check if logged in or redirected to another page\n",
        "try:\n",
        "    expected_url = 'https://www.instagram.com/accounts/onetap/?next=%2F'\n",
        "    if not WebDriverWait(driver, 20).until(EC.url_to_be(expected_url)):\n",
        "        raise Exception('Could not login. Reason might be invalid credentials or due to two-factor authentication or any other security reasons.')\n",
        "except Exception as e:\n",
        "    # Error message box found or redirected to captcha\n",
        "    print(e)\n",
        "else:\n",
        "    # Load user profile\n",
        "    profile_url = url + username\n",
        "    driver.get(profile_url)"
      ]
    },
    {
      "cell_type": "code",
      "execution_count": 6,
      "metadata": {},
      "outputs": [
        {
          "name": "stdout",
          "output_type": "stream",
          "text": [
            "/html/body/div[2]/div/div/div[2]/div/div/div[1]/div[2]/div/div[1]/section/main/div/header/section[3]/ul/li[3]/div/a\n",
            "191\n"
          ]
        }
      ],
      "source": [
        "following_field_xpath = get_xpath_containing(\"following\", driver)\n",
        "print(following_field_xpath)\n",
        "# Number of profiles the user is following\n",
        "num_following_field = WebDriverWait(driver, 20).until(EC.presence_of_element_located((By.XPATH, following_field_xpath+\"/span/span\")))\n",
        "num_following = eval(num_following_field.text.replace(',', ''))\n",
        "print(num_following)\n",
        "\n",
        "# Click on the 'following' field to see all the people whom the user follows\n",
        "following_field = WebDriverWait(driver, 20).until(EC.element_to_be_clickable((By.XPATH, following_field_xpath)))\n",
        "button_loc = following_field.location_once_scrolled_into_view\n",
        "driver.execute_script(f\"window.scrollTo({button_loc['x']}, {button_loc['y']})\") # Scroll to the 'following' field to make it clickable\n",
        "following_field.click()\n",
        "time.sleep(2) # Wait for 'following' list to be loaded"
      ]
    },
    {
      "cell_type": "code",
      "execution_count": null,
      "metadata": {},
      "outputs": [],
      "source": [
        "scroll_to_bottom(driver)"
      ]
    },
    {
      "cell_type": "code",
      "execution_count": null,
      "metadata": {},
      "outputs": [],
      "source": [
        "# Retrieve the usernames of all the profiles in the 'following' list\n",
        "following = []\n",
        "for i in range(num_following):\n",
        "    try:\n",
        "        # Handling minor changes in XPATH due to responsive design of instagram\n",
        "        following_profile = WebDriverWait(driver, 5).until(EC.presence_of_element_located((By.XPATH, f\"/html/body/div[6]/div[2]/div/div/div[1]/div/div[2]/div/div/div/div/div[2]/div/div/div[4]/div/div/div[{i+1}]/div/div/div/div[2]/div/div/div/div/div/a/div/div/span\")))\n",
        "        following.append(following_profile.text)\n",
        "    except:\n",
        "        try:\n",
        "            following_profile = WebDriverWait(driver, 5).until(EC.presence_of_element_located((By.XPATH, f\"/html/body/div[7]/div[2]/div/div/div[1]/div/div[2]/div/div/div/div/div[2]/div/div/div[4]/div/div/div[{i+1}]/div/div/div/div[2]/div/div/div/div/div/a/div/div/span\")))\n",
        "            following.append(following_profile.text)\n",
        "        except:\n",
        "            # For debugging\n",
        "            print(i+1)\n"
      ]
    },
    {
      "cell_type": "code",
      "execution_count": null,
      "metadata": {},
      "outputs": [],
      "source": [
        "profile_url = url + username\n",
        "driver.get(profile_url)"
      ]
    },
    {
      "cell_type": "code",
      "execution_count": null,
      "metadata": {},
      "outputs": [
        {
          "name": "stdout",
          "output_type": "stream",
          "text": [
            "168\n"
          ]
        }
      ],
      "source": [
        "followers_field_xpath = get_xpath_containing(\"followers\", driver)\n",
        "\n",
        "# Number of followers\n",
        "num_followers_field = WebDriverWait(driver, 20).until(EC.presence_of_element_located((By.XPATH, followers_field_xpath+\"/span/span\")))\n",
        "num_followers = eval(num_followers_field.text.replace(',', ''))\n",
        "print(num_followers)\n",
        "\n",
        "# Click on the 'followers' field to see all the people whom the user follows\n",
        "followers_field = WebDriverWait(driver, 20).until(EC.element_to_be_clickable((By.XPATH, followers_field_xpath)))\n",
        "button_loc = followers_field.location_once_scrolled_into_view\n",
        "driver.execute_script(f\"window.scrollTo({button_loc['x']}, {button_loc['y']})\") # Scroll to the 'followers' field to make it clickable\n",
        "followers_field.click()\n",
        "time.sleep(2) # Wait for 'followers' list to be loaded"
      ]
    },
    {
      "cell_type": "code",
      "execution_count": null,
      "metadata": {},
      "outputs": [],
      "source": [
        "scroll_to_bottom(driver)"
      ]
    },
    {
      "cell_type": "code",
      "execution_count": null,
      "metadata": {},
      "outputs": [],
      "source": [
        "# Retrieve the usernames of all the profiles in the 'following' list\n",
        "followers = []\n",
        "for i in range(num_followers):\n",
        "    try:\n",
        "        # Handling minor changes in XPATH due to responsive design of instagram\n",
        "        follower_profile = WebDriverWait(driver, 5).until(EC.presence_of_element_located((By.XPATH, f\"/html/body/div[6]/div[2]/div/div/div[1]/div/div[2]/div/div/div/div/div[2]/div/div/div[3]/div/div/div[{i+1}]/div/div/div/div[2]/div/div/div/div/div/a/div/div/span\")))\n",
        "        followers.append(follower_profile.text)\n",
        "    except:\n",
        "        try:\n",
        "            follower_profile = WebDriverWait(driver, 5).until(EC.presence_of_element_located((By.XPATH, f\"/html/body/div[6]/div[2]/div/div/div[1]/div/div[2]/div/div/div/div/div[2]/div/div/div[3]/div/div/div[{i+1}]/div/div/div/div[2]/div/div/div/div/div/a/div/div/span\")))\n",
        "            followers.append(follower_profile.text)\n",
        "        except:\n",
        "            # For debugging\n",
        "            print(i+1)"
      ]
    },
    {
      "cell_type": "code",
      "execution_count": null,
      "metadata": {},
      "outputs": [
        {
          "name": "stdout",
          "output_type": "stream",
          "text": [
            "{'ehsaasforhumanity', 'onevisionmedia.in', 'babitasoni938', 'this.is.gini', 'jauhari7047', 'anujrehan_music', 'teamehsaashansraj', '_shilp.kala_', 'neelamsingh6482', 'shwetaarora.in', 'sonunigamofficial', 'heisvibhor', 'qualitypixel.ar', 'sethaman007', 'hrcduofficial', 'anandsoni7251', 'kitaabclub', 'soniamit1799', 'dufrustrated', 'dezarioinfotech', 'rishit0206', 'ayushi.2165', 'the_artsy_words', 'ducompetition', 'tfc_cafe', 'ezsnippet', 'web3entirety', 'moon_rai23', 'ordinateur.hrc', 'anjalisoni0106', 'hansrajstudentunion', 'placementhansraj', 'sakshamverma_rider', 'amandhattarwal', 'camimendes'}\n"
          ]
        }
      ],
      "source": [
        "following = set(following)\n",
        "followers = set(followers)\n",
        "\n",
        "snakes = following - followers\n",
        "print(snakes)"
      ]
    },
    {
      "cell_type": "code",
      "execution_count": null,
      "metadata": {},
      "outputs": [],
      "source": [
        "# Save the list of snakes\n",
        "pd.Series(list(snakes)).to_csv(f'{username}_snakes.csv')"
      ]
    }
  ],
  "metadata": {
    "colab": {
      "provenance": []
    },
    "kernelspec": {
      "display_name": "Python 3",
      "name": "python3"
    },
    "language_info": {
      "codemirror_mode": {
        "name": "ipython",
        "version": 3
      },
      "file_extension": ".py",
      "mimetype": "text/x-python",
      "name": "python",
      "nbconvert_exporter": "python",
      "pygments_lexer": "ipython3",
      "version": "3.11.9"
    }
  },
  "nbformat": 4,
  "nbformat_minor": 0
}
